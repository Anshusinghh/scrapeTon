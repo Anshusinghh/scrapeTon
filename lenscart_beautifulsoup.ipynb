{
 "cells": [
  {
   "cell_type": "code",
   "execution_count": 1,
   "id": "beccca0e-edf6-4cb3-a67b-ec1bad4f4337",
   "metadata": {},
   "outputs": [
    {
     "name": "stdout",
     "output_type": "stream",
     "text": [
      "Defaulting to user installation because normal site-packages is not writeable\n",
      "Requirement already satisfied: html5lib in c:\\users\\yashw\\appdata\\roaming\\python\\python312\\site-packages (1.1)\n",
      "Requirement already satisfied: six>=1.9 in c:\\users\\yashw\\appdata\\roaming\\python\\python312\\site-packages (from html5lib) (1.16.0)\n",
      "Requirement already satisfied: webencodings in c:\\users\\yashw\\appdata\\roaming\\python\\python312\\site-packages (from html5lib) (0.5.1)\n",
      "Note: you may need to restart the kernel to use updated packages.\n"
     ]
    }
   ],
   "source": [
    "pip install html5lib"
   ]
  },
  {
   "cell_type": "code",
   "execution_count": 2,
   "id": "9fd5de93-7caf-47e9-aff7-0c4adb1a79df",
   "metadata": {},
   "outputs": [
    {
     "name": "stdout",
     "output_type": "stream",
     "text": [
      "Defaulting to user installation because normal site-packages is not writeable\n",
      "Requirement already satisfied: requests in c:\\users\\yashw\\appdata\\roaming\\python\\python312\\site-packages (2.31.0)\n",
      "Requirement already satisfied: charset-normalizer<4,>=2 in c:\\users\\yashw\\appdata\\roaming\\python\\python312\\site-packages (from requests) (3.3.2)\n",
      "Requirement already satisfied: idna<4,>=2.5 in c:\\users\\yashw\\appdata\\roaming\\python\\python312\\site-packages (from requests) (3.6)\n",
      "Requirement already satisfied: urllib3<3,>=1.21.1 in c:\\users\\yashw\\appdata\\roaming\\python\\python312\\site-packages (from requests) (2.1.0)\n",
      "Requirement already satisfied: certifi>=2017.4.17 in c:\\users\\yashw\\appdata\\roaming\\python\\python312\\site-packages (from requests) (2023.11.17)\n",
      "Note: you may need to restart the kernel to use updated packages.\n"
     ]
    }
   ],
   "source": [
    "pip install requests"
   ]
  },
  {
   "cell_type": "code",
   "execution_count": 40,
   "id": "5b06081c-c04a-44fa-8415-0bf57b1763cc",
   "metadata": {},
   "outputs": [],
   "source": [
    "import requests\n",
    "from bs4 import BeautifulSoup\n",
    "import html5lib\n",
    "import json\n",
    "URL = \"https://www.lenskart.com/sunglasses.html\"\n",
    "r = requests.get(URL) \n",
    "  \n",
    "soup = BeautifulSoup(r.content, 'html5lib') "
   ]
  },
  {
   "cell_type": "code",
   "execution_count": 41,
   "id": "47e81174-46d3-4135-8f94-8d66e02cabee",
   "metadata": {},
   "outputs": [],
   "source": [
    "main= soup.find('div', {'class':{'ListingStyles__CardWrapper-sc-hgixc8-13'}})\n"
   ]
  },
  {
   "cell_type": "code",
   "execution_count": 42,
   "id": "4f74bd7f-cdc1-4598-93fb-6546d51e46f4",
   "metadata": {},
   "outputs": [],
   "source": [
    "elements=main.findAll('div',{'id':'IOElement'})"
   ]
  },
  {
   "cell_type": "code",
   "execution_count": 36,
   "id": "f7bb4e07-9539-46d8-975e-4caec9113528",
   "metadata": {},
   "outputs": [],
   "source": [
    "products=[]\n",
    "for element in elements:\n",
    "    ele=element.findAll('div',{'class':'ProductContainer--1h5el3b'})\n",
    "    for product in ele:\n",
    "        pro={}\n",
    "\n",
    "        #Brandname\n",
    "        \n",
    "        pro_details=product.find('div',{'class':'ProductDetailsContainer--1hartic'})\n",
    "        pro['brand']=product.p.text\n",
    "\n",
    "        #scrapes size\n",
    "        \n",
    "        sizetext=product.find('span',{'class':'ProductSize--1gq7vf9'})\n",
    "        sentence=sizetext.text\n",
    "        words=sentence.split()\n",
    "        size=words[1]\n",
    "        if size=='':size='N/A'\n",
    "        pro['size']=size\n",
    "\n",
    "        #scrapes price of produts\n",
    "\n",
    "        price=product.find('span',{'class':'SpecialPriceSpan--1mh26ry'}).text\n",
    "        pro['price']=price\n",
    "\n",
    "        #N/A keys\n",
    "        \n",
    "        pro['onlyFewLeft']='N/A'\n",
    "        pro['sponsored']='N/A'\n",
    "\n",
    "        #color\n",
    "        color=product.find('span',{'class':'SwatchItem--xr4hpo'})\n",
    "        pro['color']='N/A' if color==None else color['color']\n",
    "\n",
    "        #Name of the product\n",
    "\n",
    "        link=product.a['href']\n",
    "        link='https://www.lenskart.com'+link\n",
    "        req = requests.get(link) \n",
    "        soup = BeautifulSoup(req.content, 'html5lib') \n",
    "        div=soup.find('div',{'class':'BasicDetailsWrapper--1ibndb2'})\n",
    "        pro['name']=div.h1.text\n",
    "\n",
    "        #Appending in list\n",
    "        \n",
    "        products.append(pro)\n",
    "\n",
    "        \n",
    "        "
   ]
  },
  {
   "cell_type": "code",
   "execution_count": 37,
   "id": "4ee520c6-efde-401c-b5d6-528e8d004936",
   "metadata": {},
   "outputs": [],
   "source": [
    "\n",
    "with open('data.json', 'w', encoding='utf-8') as f:\n",
    "    json.dump(products, f, ensure_ascii=False, indent=4)"
   ]
  },
  {
   "cell_type": "code",
   "execution_count": null,
   "id": "817eabc6-d5ae-44a0-86ee-0a4cc8991e41",
   "metadata": {},
   "outputs": [],
   "source": []
  }
 ],
 "metadata": {
  "kernelspec": {
   "display_name": "Python 3 (ipykernel)",
   "language": "python",
   "name": "python3"
  },
  "language_info": {
   "codemirror_mode": {
    "name": "ipython",
    "version": 3
   },
   "file_extension": ".py",
   "mimetype": "text/x-python",
   "name": "python",
   "nbconvert_exporter": "python",
   "pygments_lexer": "ipython3",
   "version": "3.12.1"
  }
 },
 "nbformat": 4,
 "nbformat_minor": 5
}
