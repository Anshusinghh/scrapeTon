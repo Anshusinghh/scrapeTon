{
 "cells": [
  {
   "cell_type": "code",
   "execution_count": 40,
   "id": "8b69eedb-d9fd-4009-a823-dac96f32747f",
   "metadata": {},
   "outputs": [],
   "source": [
    "import requests\n",
    "from bs4 import BeautifulSoup\n",
    "import html5lib\n",
    "import json\n",
    "\n",
    "# find this link by enabling logXMLhttpRequests in google chrome console and slowly scroll the website\n",
    "#But why do we need this\n",
    "#It's beacause lenscart uses infinte scrolling functionality\n",
    "# So data is generated through AJAX(api gateway) and you can't access it by simply looping through url page count value\n",
    "\n",
    "url='https://api-gateway.juno.lenskart.com/v2/products/category/3362?page-size=450&page=1'\n",
    "r = requests.get(url, \n",
    "                 headers={'Accept': 'application/json'})\n",
    "raw=r.json()"
   ]
  },
  {
   "cell_type": "raw",
   "id": "4abaeb52-0136-4d0a-ae77-0f913d002fac",
   "metadata": {},
   "source": [
    "def product_details(p):\n",
    "    \n",
    "    product={}\n",
    "    product['color']=p['color']\n",
    "    product['size']=p['size']\n",
    "    product['brand']=p['brand_name_en']\n",
    "    product['name']=p['searchProductName']\n",
    "    product['price']=p['prices'][1]['price']\n",
    "    product['onlyFewLeft']='N/A'\n",
    "    product['sponsored']='N/A'\n",
    "\n",
    "    products.append(product)\n"
   ]
  },
  {
   "cell_type": "code",
   "execution_count": 18,
   "id": "3a12f402-78bd-461b-921a-4a03c4419964",
   "metadata": {},
   "outputs": [],
   "source": [
    "pro=raw['result']['product_list']"
   ]
  },
  {
   "cell_type": "code",
   "execution_count": 35,
   "id": "c9145b01-3f5a-4abb-b80c-d9085b6e2707",
   "metadata": {},
   "outputs": [],
   "source": [
    "for p in pro:\n",
    "    product={}\n",
    "    product['color']=p['color']\n",
    "    product['size']=p['size']\n",
    "    product['brand']=p['brand_name_en']\n",
    "    product['price']=p['prices'][1]['price']\n",
    "    product['onlyFewLeft']='N/A'\n",
    "    product['sponsored']='N/A'\n",
    "\n",
    "    #Not every product had searchProductName so that's why used below method\n",
    "    \n",
    "    if 'searchProductName' in p:\n",
    "        product['name']=p['searchProductName']\n",
    "    else:\n",
    "        link=p['product_url']\n",
    "        r = requests.get(link) \n",
    "        soup = BeautifulSoup(r.content, 'html5lib') \n",
    "        div=soup.find('div',{'class':'BasicDetailsWrapper--1ibndb2'})\n",
    "        # product['name']=div.h1.text\n",
    "        product['name']='N/A' if div==None else div.h1.text\n",
    "    products.append(product)"
   ]
  },
  {
   "cell_type": "code",
   "execution_count": 39,
   "id": "efec5ef2-f43d-4a2d-ad8d-b4076362d62a",
   "metadata": {},
   "outputs": [],
   "source": [
    "with open('data.json', 'w', encoding='utf-8') as f:\n",
    "    json.dump(products, f, ensure_ascii=False, indent=4)"
   ]
  },
  {
   "cell_type": "code",
   "execution_count": null,
   "id": "1b7c15c4-da62-4afb-957e-1ec8217faad7",
   "metadata": {},
   "outputs": [],
   "source": []
  }
 ],
 "metadata": {
  "kernelspec": {
   "display_name": "Python 3 (ipykernel)",
   "language": "python",
   "name": "python3"
  },
  "language_info": {
   "codemirror_mode": {
    "name": "ipython",
    "version": 3
   },
   "file_extension": ".py",
   "mimetype": "text/x-python",
   "name": "python",
   "nbconvert_exporter": "python",
   "pygments_lexer": "ipython3",
   "version": "3.12.1"
  }
 },
 "nbformat": 4,
 "nbformat_minor": 5
}
